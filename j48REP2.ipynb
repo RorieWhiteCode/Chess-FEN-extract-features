{
  "metadata": {
    "language_info": {
      "codemirror_mode": {
        "name": "python",
        "version": 3
      },
      "file_extension": ".py",
      "mimetype": "text/x-python",
      "name": "python",
      "nbconvert_exporter": "python",
      "pygments_lexer": "ipython3",
      "version": "3.8"
    },
    "kernelspec": {
      "name": "python",
      "display_name": "Python (Pyodide)",
      "language": "python"
    }
  },
  "nbformat_minor": 4,
  "nbformat": 4,
  "cells": [
    {
      "cell_type": "code",
      "source": "%pip install seaborn",
      "metadata": {
        "trusted": true
      },
      "execution_count": 9,
      "outputs": []
    },
    {
      "cell_type": "code",
      "source": "import pandas as pd\nfrom sklearn.preprocessing import LabelEncoder\nfrom sklearn.model_selection import train_test_split\nfrom sklearn.tree import DecisionTreeClassifier, plot_tree\nfrom sklearn.metrics import classification_report, confusion_matrix\nimport matplotlib.pyplot as plt\nimport seaborn as sns\nfrom sklearn.model_selection import cross_val_score\nimport numpy as np \n\ngame = pd.read_csv(\"subset.csv\")\n\ngame = game.set_axis(['Winner', 'White_Weighted_Value', 'Black_Weighted_Value',\n                     'White_Centre_Weighted_Value', 'Black_Centre_Weighted_Value',\n                     'White_King_Safety', 'Black_King_Safety',\n                     'White_Piece_Count', 'Black_Piece_Count',\n                     'White_Center_Piece_Count', 'Black_Center_Piece_Count',\n                     'White_Opponent_Moves', 'Black_Opponent_Moves',\n                     'White_Rook_Positions', 'White_Queen_Positions',\n                     'White_Knight_Positions', 'White_King_Positions', 'White_Bishop_Positions',\n                     'Black_Rook_Positions', 'Black_Queen_Positions',\n                     'Black_Knight_Positions', 'Black_King_Positions', 'Black_Bishop_Positions'], axis=1)\n\n# Pre-processing our engineered features (Y/N->0/1)\nencoder = LabelEncoder()\ngame[\"White_King_Safety\"] = encoder.fit_transform(game[\"White_King_Safety\"])\ngame[\"Black_King_Safety\"] = encoder.fit_transform(game[\"Black_King_Safety\"])\ngame[\"Winner\"] = encoder.fit_transform(game[\"Winner\"])\n\n# X(predictors), y (target)\nX = game.drop(columns=[\"Winner\"])\ny = game[\"Winner\"]\n\nX_train, X_test, y_train, y_test = train_test_split(X, y, test_size=0.3, random_state=42)\n\n# Create an Original Decision Tree (J48) classifier\noriginal_j48_classifier = DecisionTreeClassifier(random_state=42)\n\n# Train the Original Decision Tree on the training data\noriginal_j48_classifier.fit(X_train, y_train)\n\n# Create a Pruned Decision Tree\npruned_j48_classifier = DecisionTreeClassifier(random_state=42)\n\n# Cost Complexity Pruning Path for the Original Decision Tree\npath = original_j48_classifier.cost_complexity_pruning_path(X_train, y_train)\nccp_alphas, impurities = path.ccp_alphas, path.impurities\n\n# Cross-validated errors for each alpha\nerrors = []\nfor alpha in ccp_alphas:\n    pruned_tree = DecisionTreeClassifier(random_state=42, ccp_alpha=alpha)\n    scores = cross_val_score(pruned_tree, X_train, y_train, cv=5, scoring='accuracy')\n    errors.append(1 - scores.mean())\n\n# Find the alpha with the minimum cross-validated error\nbest_alpha = ccp_alphas[np.argmin(errors)]\n\n# Prune the tree with the best alpha\npruned_j48_classifier.set_params(ccp_alpha=best_alpha)\npruned_j48_classifier.fit(X_train, y_train)\n\n# Plot Original and Pruned Decision Trees, Confusion Matrices, and Feature Importance in a single plot\nfig, axes = plt.subplots(nrows=2, ncols=3, figsize=(18, 12))\n\n# Plot Original Decision Tree\naxes[0, 0].set_title('Original Decision Tree')\nplot_tree(original_j48_classifier, filled=True, feature_names=X.columns, class_names=[\"0\", \"1\"], ax=axes[0, 0])\naxes[0, 0].text(0.5, 1.0, \"Original Decision Tree\", fontsize=12, ha=\"center\", va=\"bottom\", bbox=dict(boxstyle=\"round\", alpha=0.1))\n\n# Plot Pruned Decision Tree\naxes[0, 1].set_title('Pruned Decision Tree')\nplot_tree(pruned_j48_classifier, filled=True, feature_names=X.columns, class_names=[\"0\", \"1\"], ax=axes[0, 1])\naxes[0, 1].text(0.5, 1.0, \"Pruned Decision Tree\", fontsize=12, ha=\"center\", va=\"bottom\", bbox=dict(boxstyle=\"round\", alpha=0.1))\n\n# Plot Confusion Matrix for Original Decision Tree\ny_pred_original = original_j48_classifier.predict(X_test)\nconf_matrix_original = confusion_matrix(y_test, y_pred_original)\nsns.heatmap(conf_matrix_original, annot=True, fmt=\"d\", cmap=\"Blues\", xticklabels=[\"0\", \"1\"], yticklabels=[\"0\", \"1\"],\n            ax=axes[0, 2])\naxes[0, 2].set_title('Confusion Matrix (Original Decision Tree)')\n\n# Plot Confusion Matrix for Pruned Decision Tree\ny_pred_pruned = pruned_j48_classifier.predict(X_test)\nconf_matrix_pruned = confusion_matrix(y_test, y_pred_pruned)\nsns.heatmap(conf_matrix_pruned, annot=True, fmt=\"d\", cmap=\"Blues\", xticklabels=[\"0\", \"1\"], yticklabels=[\"0\", \"1\"],\n            ax=axes[1, 0])\naxes[1, 0].set_title('Confusion Matrix (Pruned Decision Tree)')\n\n# Get feature importances for the Original Decision Tree\nfeature_importances_original = original_j48_classifier.feature_importances_\n\n# Plot feature importances for Original Decision Tree\nsns.barplot(x=feature_importances_original, y=X.columns, ax=axes[1, 1])\naxes[1, 1].set_title('Feature Importances (Original Decision Tree)')\n\n# Get feature importances for the Pruned Decision Tree\nfeature_importances_pruned = pruned_j48_classifier.feature_importances_\n\n# Plot feature importances for Pruned Decision Tree\nsns.barplot(x=feature_importances_pruned, y=X.columns, ax=axes[1, 2])\naxes[1, 2].set_title('Feature Importances (Pruned Decision Tree)')\n\nplt.tight_layout()\nplt.show()\n\n# Print the tree depths for both Original and Pruned Decision Trees\ntree_depth_original = original_j48_classifier.get_depth()\ntree_depth_pruned = pruned_j48_classifier.get_depth()\n\nprint(\"Original Decision Tree Depth:\", tree_depth_original)\nprint(\"Pruned Decision Tree Depth:\", tree_depth_pruned)\n",
      "metadata": {
        "trusted": true
      },
      "execution_count": null,
      "outputs": []
    },
    {
      "cell_type": "code",
      "source": "",
      "metadata": {},
      "execution_count": null,
      "outputs": []
    }
  ]
}